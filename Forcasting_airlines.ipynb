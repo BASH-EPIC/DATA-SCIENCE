{
 "cells": [
  {
   "cell_type": "code",
   "execution_count": 1,
   "metadata": {},
   "outputs": [],
   "source": [
    "import pandas as pd\n",
    "import numpy as np\n",
    "from datetime import  datetime\n",
    "import matplotlib.pyplot as plt\n",
    "import seaborn as sns\n",
    "from statsmodels.tsa.seasonal import seasonal_decompose"
   ]
  },
  {
   "cell_type": "code",
   "execution_count": 2,
   "metadata": {},
   "outputs": [],
   "source": [
    "df= pd.read_excel(r'Airlines+Data.xlsx')"
   ]
  },
  {
   "cell_type": "code",
   "execution_count": 3,
   "metadata": {},
   "outputs": [
    {
     "data": {
      "text/html": [
       "<div>\n",
       "<style scoped>\n",
       "    .dataframe tbody tr th:only-of-type {\n",
       "        vertical-align: middle;\n",
       "    }\n",
       "\n",
       "    .dataframe tbody tr th {\n",
       "        vertical-align: top;\n",
       "    }\n",
       "\n",
       "    .dataframe thead th {\n",
       "        text-align: right;\n",
       "    }\n",
       "</style>\n",
       "<table border=\"1\" class=\"dataframe\">\n",
       "  <thead>\n",
       "    <tr style=\"text-align: right;\">\n",
       "      <th></th>\n",
       "      <th>Month</th>\n",
       "      <th>Passengers</th>\n",
       "    </tr>\n",
       "  </thead>\n",
       "  <tbody>\n",
       "    <tr>\n",
       "      <th>0</th>\n",
       "      <td>1995-01-01</td>\n",
       "      <td>112</td>\n",
       "    </tr>\n",
       "    <tr>\n",
       "      <th>1</th>\n",
       "      <td>1995-02-01</td>\n",
       "      <td>118</td>\n",
       "    </tr>\n",
       "    <tr>\n",
       "      <th>2</th>\n",
       "      <td>1995-03-01</td>\n",
       "      <td>132</td>\n",
       "    </tr>\n",
       "    <tr>\n",
       "      <th>3</th>\n",
       "      <td>1995-04-01</td>\n",
       "      <td>129</td>\n",
       "    </tr>\n",
       "    <tr>\n",
       "      <th>4</th>\n",
       "      <td>1995-05-01</td>\n",
       "      <td>121</td>\n",
       "    </tr>\n",
       "    <tr>\n",
       "      <th>...</th>\n",
       "      <td>...</td>\n",
       "      <td>...</td>\n",
       "    </tr>\n",
       "    <tr>\n",
       "      <th>91</th>\n",
       "      <td>2002-08-01</td>\n",
       "      <td>405</td>\n",
       "    </tr>\n",
       "    <tr>\n",
       "      <th>92</th>\n",
       "      <td>2002-09-01</td>\n",
       "      <td>355</td>\n",
       "    </tr>\n",
       "    <tr>\n",
       "      <th>93</th>\n",
       "      <td>2002-10-01</td>\n",
       "      <td>306</td>\n",
       "    </tr>\n",
       "    <tr>\n",
       "      <th>94</th>\n",
       "      <td>2002-11-01</td>\n",
       "      <td>271</td>\n",
       "    </tr>\n",
       "    <tr>\n",
       "      <th>95</th>\n",
       "      <td>2002-12-01</td>\n",
       "      <td>306</td>\n",
       "    </tr>\n",
       "  </tbody>\n",
       "</table>\n",
       "<p>96 rows × 2 columns</p>\n",
       "</div>"
      ],
      "text/plain": [
       "        Month  Passengers\n",
       "0  1995-01-01         112\n",
       "1  1995-02-01         118\n",
       "2  1995-03-01         132\n",
       "3  1995-04-01         129\n",
       "4  1995-05-01         121\n",
       "..        ...         ...\n",
       "91 2002-08-01         405\n",
       "92 2002-09-01         355\n",
       "93 2002-10-01         306\n",
       "94 2002-11-01         271\n",
       "95 2002-12-01         306\n",
       "\n",
       "[96 rows x 2 columns]"
      ]
     },
     "execution_count": 3,
     "metadata": {},
     "output_type": "execute_result"
    }
   ],
   "source": [
    "df"
   ]
  },
  {
   "cell_type": "code",
   "execution_count": 4,
   "metadata": {},
   "outputs": [
    {
     "name": "stdout",
     "output_type": "stream",
     "text": [
      "<class 'pandas.core.frame.DataFrame'>\n",
      "RangeIndex: 96 entries, 0 to 95\n",
      "Data columns (total 2 columns):\n",
      " #   Column      Non-Null Count  Dtype         \n",
      "---  ------      --------------  -----         \n",
      " 0   Month       96 non-null     datetime64[ns]\n",
      " 1   Passengers  96 non-null     int64         \n",
      "dtypes: datetime64[ns](1), int64(1)\n",
      "memory usage: 1.6 KB\n"
     ]
    }
   ],
   "source": [
    "df.info()"
   ]
  },
  {
   "cell_type": "code",
   "execution_count": 5,
   "metadata": {},
   "outputs": [],
   "source": [
    "#df= df.set_index(['Month'])"
   ]
  },
  {
   "cell_type": "code",
   "execution_count": 6,
   "metadata": {},
   "outputs": [
    {
     "data": {
      "text/html": [
       "<div>\n",
       "<style scoped>\n",
       "    .dataframe tbody tr th:only-of-type {\n",
       "        vertical-align: middle;\n",
       "    }\n",
       "\n",
       "    .dataframe tbody tr th {\n",
       "        vertical-align: top;\n",
       "    }\n",
       "\n",
       "    .dataframe thead th {\n",
       "        text-align: right;\n",
       "    }\n",
       "</style>\n",
       "<table border=\"1\" class=\"dataframe\">\n",
       "  <thead>\n",
       "    <tr style=\"text-align: right;\">\n",
       "      <th></th>\n",
       "      <th>Month</th>\n",
       "      <th>Passengers</th>\n",
       "    </tr>\n",
       "  </thead>\n",
       "  <tbody>\n",
       "    <tr>\n",
       "      <th>0</th>\n",
       "      <td>1995-01-01</td>\n",
       "      <td>112</td>\n",
       "    </tr>\n",
       "    <tr>\n",
       "      <th>1</th>\n",
       "      <td>1995-02-01</td>\n",
       "      <td>118</td>\n",
       "    </tr>\n",
       "    <tr>\n",
       "      <th>2</th>\n",
       "      <td>1995-03-01</td>\n",
       "      <td>132</td>\n",
       "    </tr>\n",
       "    <tr>\n",
       "      <th>3</th>\n",
       "      <td>1995-04-01</td>\n",
       "      <td>129</td>\n",
       "    </tr>\n",
       "    <tr>\n",
       "      <th>4</th>\n",
       "      <td>1995-05-01</td>\n",
       "      <td>121</td>\n",
       "    </tr>\n",
       "    <tr>\n",
       "      <th>...</th>\n",
       "      <td>...</td>\n",
       "      <td>...</td>\n",
       "    </tr>\n",
       "    <tr>\n",
       "      <th>91</th>\n",
       "      <td>2002-08-01</td>\n",
       "      <td>405</td>\n",
       "    </tr>\n",
       "    <tr>\n",
       "      <th>92</th>\n",
       "      <td>2002-09-01</td>\n",
       "      <td>355</td>\n",
       "    </tr>\n",
       "    <tr>\n",
       "      <th>93</th>\n",
       "      <td>2002-10-01</td>\n",
       "      <td>306</td>\n",
       "    </tr>\n",
       "    <tr>\n",
       "      <th>94</th>\n",
       "      <td>2002-11-01</td>\n",
       "      <td>271</td>\n",
       "    </tr>\n",
       "    <tr>\n",
       "      <th>95</th>\n",
       "      <td>2002-12-01</td>\n",
       "      <td>306</td>\n",
       "    </tr>\n",
       "  </tbody>\n",
       "</table>\n",
       "<p>96 rows × 2 columns</p>\n",
       "</div>"
      ],
      "text/plain": [
       "        Month  Passengers\n",
       "0  1995-01-01         112\n",
       "1  1995-02-01         118\n",
       "2  1995-03-01         132\n",
       "3  1995-04-01         129\n",
       "4  1995-05-01         121\n",
       "..        ...         ...\n",
       "91 2002-08-01         405\n",
       "92 2002-09-01         355\n",
       "93 2002-10-01         306\n",
       "94 2002-11-01         271\n",
       "95 2002-12-01         306\n",
       "\n",
       "[96 rows x 2 columns]"
      ]
     },
     "execution_count": 6,
     "metadata": {},
     "output_type": "execute_result"
    }
   ],
   "source": [
    "df\n"
   ]
  },
  {
   "cell_type": "code",
   "execution_count": null,
   "metadata": {},
   "outputs": [],
   "source": []
  },
  {
   "cell_type": "code",
   "execution_count": null,
   "metadata": {
    "scrolled": true
   },
   "outputs": [],
   "source": []
  },
  {
   "cell_type": "code",
   "execution_count": 7,
   "metadata": {},
   "outputs": [],
   "source": [
    "import datetime"
   ]
  },
  {
   "cell_type": "code",
   "execution_count": 8,
   "metadata": {},
   "outputs": [],
   "source": [
    "df[\"month\"] = df.Month.dt.strftime(\"%b\")"
   ]
  },
  {
   "cell_type": "code",
   "execution_count": 9,
   "metadata": {},
   "outputs": [],
   "source": [
    "df[\"year\"] = df.Month.dt.strftime(\"%Y\")"
   ]
  },
  {
   "cell_type": "code",
   "execution_count": 10,
   "metadata": {},
   "outputs": [],
   "source": [
    "df= df.set_index(['Month'])"
   ]
  },
  {
   "cell_type": "code",
   "execution_count": 11,
   "metadata": {},
   "outputs": [
    {
     "data": {
      "text/html": [
       "<div>\n",
       "<style scoped>\n",
       "    .dataframe tbody tr th:only-of-type {\n",
       "        vertical-align: middle;\n",
       "    }\n",
       "\n",
       "    .dataframe tbody tr th {\n",
       "        vertical-align: top;\n",
       "    }\n",
       "\n",
       "    .dataframe thead th {\n",
       "        text-align: right;\n",
       "    }\n",
       "</style>\n",
       "<table border=\"1\" class=\"dataframe\">\n",
       "  <thead>\n",
       "    <tr style=\"text-align: right;\">\n",
       "      <th></th>\n",
       "      <th>Passengers</th>\n",
       "      <th>month</th>\n",
       "      <th>year</th>\n",
       "    </tr>\n",
       "    <tr>\n",
       "      <th>Month</th>\n",
       "      <th></th>\n",
       "      <th></th>\n",
       "      <th></th>\n",
       "    </tr>\n",
       "  </thead>\n",
       "  <tbody>\n",
       "    <tr>\n",
       "      <th>1995-01-01</th>\n",
       "      <td>112</td>\n",
       "      <td>Jan</td>\n",
       "      <td>1995</td>\n",
       "    </tr>\n",
       "    <tr>\n",
       "      <th>1995-02-01</th>\n",
       "      <td>118</td>\n",
       "      <td>Feb</td>\n",
       "      <td>1995</td>\n",
       "    </tr>\n",
       "    <tr>\n",
       "      <th>1995-03-01</th>\n",
       "      <td>132</td>\n",
       "      <td>Mar</td>\n",
       "      <td>1995</td>\n",
       "    </tr>\n",
       "    <tr>\n",
       "      <th>1995-04-01</th>\n",
       "      <td>129</td>\n",
       "      <td>Apr</td>\n",
       "      <td>1995</td>\n",
       "    </tr>\n",
       "    <tr>\n",
       "      <th>1995-05-01</th>\n",
       "      <td>121</td>\n",
       "      <td>May</td>\n",
       "      <td>1995</td>\n",
       "    </tr>\n",
       "    <tr>\n",
       "      <th>...</th>\n",
       "      <td>...</td>\n",
       "      <td>...</td>\n",
       "      <td>...</td>\n",
       "    </tr>\n",
       "    <tr>\n",
       "      <th>2002-08-01</th>\n",
       "      <td>405</td>\n",
       "      <td>Aug</td>\n",
       "      <td>2002</td>\n",
       "    </tr>\n",
       "    <tr>\n",
       "      <th>2002-09-01</th>\n",
       "      <td>355</td>\n",
       "      <td>Sep</td>\n",
       "      <td>2002</td>\n",
       "    </tr>\n",
       "    <tr>\n",
       "      <th>2002-10-01</th>\n",
       "      <td>306</td>\n",
       "      <td>Oct</td>\n",
       "      <td>2002</td>\n",
       "    </tr>\n",
       "    <tr>\n",
       "      <th>2002-11-01</th>\n",
       "      <td>271</td>\n",
       "      <td>Nov</td>\n",
       "      <td>2002</td>\n",
       "    </tr>\n",
       "    <tr>\n",
       "      <th>2002-12-01</th>\n",
       "      <td>306</td>\n",
       "      <td>Dec</td>\n",
       "      <td>2002</td>\n",
       "    </tr>\n",
       "  </tbody>\n",
       "</table>\n",
       "<p>96 rows × 3 columns</p>\n",
       "</div>"
      ],
      "text/plain": [
       "            Passengers month  year\n",
       "Month                             \n",
       "1995-01-01         112   Jan  1995\n",
       "1995-02-01         118   Feb  1995\n",
       "1995-03-01         132   Mar  1995\n",
       "1995-04-01         129   Apr  1995\n",
       "1995-05-01         121   May  1995\n",
       "...                ...   ...   ...\n",
       "2002-08-01         405   Aug  2002\n",
       "2002-09-01         355   Sep  2002\n",
       "2002-10-01         306   Oct  2002\n",
       "2002-11-01         271   Nov  2002\n",
       "2002-12-01         306   Dec  2002\n",
       "\n",
       "[96 rows x 3 columns]"
      ]
     },
     "execution_count": 11,
     "metadata": {},
     "output_type": "execute_result"
    }
   ],
   "source": [
    "df"
   ]
  },
  {
   "cell_type": "code",
   "execution_count": 12,
   "metadata": {},
   "outputs": [
    {
     "data": {
      "text/plain": [
       "<AxesSubplot:xlabel='year'>"
      ]
     },
     "execution_count": 12,
     "metadata": {},
     "output_type": "execute_result"
    },
    {
     "data": {
      "image/png": "[encoded data removed]",
      "text/plain": [
       "<Figure size 576x432 with 1 Axes>"
      ]
     },
     "metadata": {
      "needs_background": "light"
     },
     "output_type": "display_data"
    }
   ],
   "source": [
    "plt.figure(figsize=(8,6))\n",
    "df.groupby('year')['Passengers'].mean().plot(kind='bar')"
   ]
  },
  {
   "cell_type": "code",
   "execution_count": 13,
   "metadata": {},
   "outputs": [
    {
     "data": {
      "text/plain": [
       "<AxesSubplot:xlabel='month'>"
      ]
     },
     "execution_count": 13,
     "metadata": {},
     "output_type": "execute_result"
    },
    {
     "data": {
      "image/png": "[encoded data removed]",
      "text/plain": [
       "<Figure size 576x432 with 1 Axes>"
      ]
     },
     "metadata": {
      "needs_background": "light"
     },
     "output_type": "display_data"
    }
   ],
   "source": [
    "plt.figure(figsize=(8,6))\n",
    "df.groupby('month')['Passengers'].mean().reindex(index=['Jan','Feb','Mar','Apr','May','Jun','Jul','Aug','Sep','Oct','Nov','Dec']).plot(kind='bar')"
   ]
  },
  {
   "cell_type": "code",
   "execution_count": 14,
   "metadata": {},
   "outputs": [
    {
     "data": {
      "text/plain": [
       "Text(0, 0.5, 'years')"
      ]
     },
     "execution_count": 14,
     "metadata": {},
     "output_type": "execute_result"
    },
    {
     "data": {
      "image/png": "[encoded data removed]",
      "text/plain": [
       "<Figure size 432x288 with 1 Axes>"
      ]
     },
     "metadata": {
      "needs_background": "light"
     },
     "output_type": "display_data"
    }
   ],
   "source": [
    "#plt.figure(figsize=(10,8))\n",
    "df.plot()\n",
    "plt.xlabel('No of passagers')\n",
    "plt.ylabel('years')"
   ]
  },
  {
   "cell_type": "code",
   "execution_count": 15,
   "metadata": {},
   "outputs": [
    {
     "data": {
      "image/png": "[encoded data removed]",
      "text/plain": [
       "<Figure size 432x288 with 4 Axes>"
      ]
     },
     "metadata": {
      "needs_background": "light"
     },
     "output_type": "display_data"
    }
   ],
   "source": [
    "decomposition = seasonal_decompose(df['Passengers']) \n",
    "\n",
    "trend = decomposition.trend\n",
    "seasonal = decomposition.seasonal\n",
    "residual = decomposition.resid\n",
    "\n",
    "plt.subplot(411)\n",
    "plt.plot(df['Passengers'], label='Original')\n",
    "plt.legend(loc='best')\n",
    "\n",
    "plt.subplot(412)\n",
    "plt.plot(trend, label='Trend')\n",
    "plt.legend(loc='best')\n",
    "\n",
    "plt.subplot(413)\n",
    "plt.plot(seasonal, label='Seasonality')\n",
    "plt.legend(loc='best')\n",
    "\n",
    "plt.subplot(414)\n",
    "plt.plot(residual, label='Residuals')\n",
    "plt.legend(loc='best')\n",
    "\n",
    "plt.tight_layout()"
   ]
  },
  {
   "cell_type": "code",
   "execution_count": 16,
   "metadata": {},
   "outputs": [],
   "source": [
    "monthly= pd.pivot_table(values='Passengers' ,data=df,index='month',columns='year')"
   ]
  },
  {
   "cell_type": "code",
   "execution_count": 17,
   "metadata": {},
   "outputs": [
    {
     "data": {
      "text/html": [
       "<div>\n",
       "<style scoped>\n",
       "    .dataframe tbody tr th:only-of-type {\n",
       "        vertical-align: middle;\n",
       "    }\n",
       "\n",
       "    .dataframe tbody tr th {\n",
       "        vertical-align: top;\n",
       "    }\n",
       "\n",
       "    .dataframe thead th {\n",
       "        text-align: right;\n",
       "    }\n",
       "</style>\n",
       "<table border=\"1\" class=\"dataframe\">\n",
       "  <thead>\n",
       "    <tr style=\"text-align: right;\">\n",
       "      <th>year</th>\n",
       "      <th>1995</th>\n",
       "      <th>1996</th>\n",
       "      <th>1997</th>\n",
       "      <th>1998</th>\n",
       "      <th>1999</th>\n",
       "      <th>2000</th>\n",
       "      <th>2001</th>\n",
       "      <th>2002</th>\n",
       "    </tr>\n",
       "    <tr>\n",
       "      <th>month</th>\n",
       "      <th></th>\n",
       "      <th></th>\n",
       "      <th></th>\n",
       "      <th></th>\n",
       "      <th></th>\n",
       "      <th></th>\n",
       "      <th></th>\n",
       "      <th></th>\n",
       "    </tr>\n",
       "  </thead>\n",
       "  <tbody>\n",
       "    <tr>\n",
       "      <th>Apr</th>\n",
       "      <td>129</td>\n",
       "      <td>135</td>\n",
       "      <td>163</td>\n",
       "      <td>181</td>\n",
       "      <td>235</td>\n",
       "      <td>227</td>\n",
       "      <td>269</td>\n",
       "      <td>313</td>\n",
       "    </tr>\n",
       "    <tr>\n",
       "      <th>Aug</th>\n",
       "      <td>148</td>\n",
       "      <td>170</td>\n",
       "      <td>199</td>\n",
       "      <td>242</td>\n",
       "      <td>272</td>\n",
       "      <td>293</td>\n",
       "      <td>347</td>\n",
       "      <td>405</td>\n",
       "    </tr>\n",
       "    <tr>\n",
       "      <th>Dec</th>\n",
       "      <td>118</td>\n",
       "      <td>140</td>\n",
       "      <td>166</td>\n",
       "      <td>194</td>\n",
       "      <td>201</td>\n",
       "      <td>229</td>\n",
       "      <td>278</td>\n",
       "      <td>306</td>\n",
       "    </tr>\n",
       "    <tr>\n",
       "      <th>Feb</th>\n",
       "      <td>118</td>\n",
       "      <td>126</td>\n",
       "      <td>150</td>\n",
       "      <td>180</td>\n",
       "      <td>196</td>\n",
       "      <td>188</td>\n",
       "      <td>233</td>\n",
       "      <td>277</td>\n",
       "    </tr>\n",
       "    <tr>\n",
       "      <th>Jan</th>\n",
       "      <td>112</td>\n",
       "      <td>115</td>\n",
       "      <td>145</td>\n",
       "      <td>171</td>\n",
       "      <td>196</td>\n",
       "      <td>204</td>\n",
       "      <td>242</td>\n",
       "      <td>284</td>\n",
       "    </tr>\n",
       "    <tr>\n",
       "      <th>Jul</th>\n",
       "      <td>148</td>\n",
       "      <td>170</td>\n",
       "      <td>199</td>\n",
       "      <td>230</td>\n",
       "      <td>264</td>\n",
       "      <td>302</td>\n",
       "      <td>364</td>\n",
       "      <td>413</td>\n",
       "    </tr>\n",
       "    <tr>\n",
       "      <th>Jun</th>\n",
       "      <td>135</td>\n",
       "      <td>149</td>\n",
       "      <td>178</td>\n",
       "      <td>218</td>\n",
       "      <td>243</td>\n",
       "      <td>264</td>\n",
       "      <td>315</td>\n",
       "      <td>374</td>\n",
       "    </tr>\n",
       "    <tr>\n",
       "      <th>Mar</th>\n",
       "      <td>132</td>\n",
       "      <td>141</td>\n",
       "      <td>178</td>\n",
       "      <td>193</td>\n",
       "      <td>236</td>\n",
       "      <td>235</td>\n",
       "      <td>267</td>\n",
       "      <td>317</td>\n",
       "    </tr>\n",
       "    <tr>\n",
       "      <th>May</th>\n",
       "      <td>121</td>\n",
       "      <td>125</td>\n",
       "      <td>172</td>\n",
       "      <td>183</td>\n",
       "      <td>229</td>\n",
       "      <td>234</td>\n",
       "      <td>270</td>\n",
       "      <td>318</td>\n",
       "    </tr>\n",
       "    <tr>\n",
       "      <th>Nov</th>\n",
       "      <td>104</td>\n",
       "      <td>114</td>\n",
       "      <td>146</td>\n",
       "      <td>172</td>\n",
       "      <td>180</td>\n",
       "      <td>203</td>\n",
       "      <td>237</td>\n",
       "      <td>271</td>\n",
       "    </tr>\n",
       "    <tr>\n",
       "      <th>Oct</th>\n",
       "      <td>119</td>\n",
       "      <td>133</td>\n",
       "      <td>162</td>\n",
       "      <td>191</td>\n",
       "      <td>211</td>\n",
       "      <td>229</td>\n",
       "      <td>274</td>\n",
       "      <td>306</td>\n",
       "    </tr>\n",
       "    <tr>\n",
       "      <th>Sep</th>\n",
       "      <td>136</td>\n",
       "      <td>158</td>\n",
       "      <td>184</td>\n",
       "      <td>209</td>\n",
       "      <td>237</td>\n",
       "      <td>259</td>\n",
       "      <td>312</td>\n",
       "      <td>355</td>\n",
       "    </tr>\n",
       "  </tbody>\n",
       "</table>\n",
       "</div>"
      ],
      "text/plain": [
       "year   1995  1996  1997  1998  1999  2000  2001  2002\n",
       "month                                                \n",
       "Apr     129   135   163   181   235   227   269   313\n",
       "Aug     148   170   199   242   272   293   347   405\n",
       "Dec     118   140   166   194   201   229   278   306\n",
       "Feb     118   126   150   180   196   188   233   277\n",
       "Jan     112   115   145   171   196   204   242   284\n",
       "Jul     148   170   199   230   264   302   364   413\n",
       "Jun     135   149   178   218   243   264   315   374\n",
       "Mar     132   141   178   193   236   235   267   317\n",
       "May     121   125   172   183   229   234   270   318\n",
       "Nov     104   114   146   172   180   203   237   271\n",
       "Oct     119   133   162   191   211   229   274   306\n",
       "Sep     136   158   184   209   237   259   312   355"
      ]
     },
     "execution_count": 17,
     "metadata": {},
     "output_type": "execute_result"
    }
   ],
   "source": [
    "monthly"
   ]
  },
  {
   "cell_type": "code",
   "execution_count": 18,
   "metadata": {},
   "outputs": [
    {
     "data": {
      "text/plain": [
       "<AxesSubplot:xlabel='month'>"
      ]
     },
     "execution_count": 18,
     "metadata": {},
     "output_type": "execute_result"
    },
    {
     "data": {
      "image/png": "[encoded data removed]",
      "text/plain": [
       "<Figure size 432x288 with 1 Axes>"
      ]
     },
     "metadata": {
      "needs_background": "light"
     },
     "output_type": "display_data"
    }
   ],
   "source": [
    "monthly.plot()"
   ]
  },
  {
   "cell_type": "code",
   "execution_count": 19,
   "metadata": {},
   "outputs": [
    {
     "data": {
      "text/plain": [
       "<AxesSubplot:xlabel='month', ylabel='Passengers'>"
      ]
     },
     "execution_count": 19,
     "metadata": {},
     "output_type": "execute_result"
    },
    {
     "data": {
      "image/png": "[encoded data removed]",
      "text/plain": [
       "<Figure size 432x288 with 1 Axes>"
      ]
     },
     "metadata": {
      "needs_background": "light"
     },
     "output_type": "display_data"
    }
   ],
   "source": [
    "#Box plots\n",
    "sns.boxplot(x=\"month\",y=\"Passengers\",data=df)"
   ]
  },
  {
   "cell_type": "code",
   "execution_count": 20,
   "metadata": {},
   "outputs": [
    {
     "data": {
      "text/plain": [
       "<AxesSubplot:xlabel='year', ylabel='Passengers'>"
      ]
     },
     "execution_count": 20,
     "metadata": {},
     "output_type": "execute_result"
    },
    {
     "data": {
      "image/png": "[encoded data removed]",
      "text/plain": [
       "<Figure size 432x288 with 1 Axes>"
      ]
     },
     "metadata": {
      "needs_background": "light"
     },
     "output_type": "display_data"
    }
   ],
   "source": [
    "sns.boxplot(x=\"year\",y=\"Passengers\",data=df)"
   ]
  },
  {
   "cell_type": "code",
   "execution_count": 21,
   "metadata": {},
   "outputs": [],
   "source": [
    "df_tran=df.copy()"
   ]
  },
  {
   "cell_type": "code",
   "execution_count": 22,
   "metadata": {},
   "outputs": [],
   "source": [
    "df_tran['t']= np.arange(1,97) "
   ]
  },
  {
   "cell_type": "code",
   "execution_count": 23,
   "metadata": {},
   "outputs": [],
   "source": [
    "df_tran['log']= np.log(df['Passengers'])  #log transform of data"
   ]
  },
  {
   "cell_type": "code",
   "execution_count": 24,
   "metadata": {},
   "outputs": [],
   "source": [
    "df_tran['t_sq']= df['Passengers']*df['Passengers'] # taking sq"
   ]
  },
  {
   "cell_type": "code",
   "execution_count": 25,
   "metadata": {},
   "outputs": [
    {
     "data": {
      "text/html": [
       "<div>\n",
       "<style scoped>\n",
       "    .dataframe tbody tr th:only-of-type {\n",
       "        vertical-align: middle;\n",
       "    }\n",
       "\n",
       "    .dataframe tbody tr th {\n",
       "        vertical-align: top;\n",
       "    }\n",
       "\n",
       "    .dataframe thead th {\n",
       "        text-align: right;\n",
       "    }\n",
       "</style>\n",
       "<table border=\"1\" class=\"dataframe\">\n",
       "  <thead>\n",
       "    <tr style=\"text-align: right;\">\n",
       "      <th></th>\n",
       "      <th>Passengers</th>\n",
       "      <th>month</th>\n",
       "      <th>year</th>\n",
       "      <th>t</th>\n",
       "      <th>log</th>\n",
       "      <th>t_sq</th>\n",
       "    </tr>\n",
       "    <tr>\n",
       "      <th>Month</th>\n",
       "      <th></th>\n",
       "      <th></th>\n",
       "      <th></th>\n",
       "      <th></th>\n",
       "      <th></th>\n",
       "      <th></th>\n",
       "    </tr>\n",
       "  </thead>\n",
       "  <tbody>\n",
       "    <tr>\n",
       "      <th>1995-01-01</th>\n",
       "      <td>112</td>\n",
       "      <td>Jan</td>\n",
       "      <td>1995</td>\n",
       "      <td>1</td>\n",
       "      <td>4.718499</td>\n",
       "      <td>12544</td>\n",
       "    </tr>\n",
       "    <tr>\n",
       "      <th>1995-02-01</th>\n",
       "      <td>118</td>\n",
       "      <td>Feb</td>\n",
       "      <td>1995</td>\n",
       "      <td>2</td>\n",
       "      <td>4.770685</td>\n",
       "      <td>13924</td>\n",
       "    </tr>\n",
       "    <tr>\n",
       "      <th>1995-03-01</th>\n",
       "      <td>132</td>\n",
       "      <td>Mar</td>\n",
       "      <td>1995</td>\n",
       "      <td>3</td>\n",
       "      <td>4.882802</td>\n",
       "      <td>17424</td>\n",
       "    </tr>\n",
       "    <tr>\n",
       "      <th>1995-04-01</th>\n",
       "      <td>129</td>\n",
       "      <td>Apr</td>\n",
       "      <td>1995</td>\n",
       "      <td>4</td>\n",
       "      <td>4.859812</td>\n",
       "      <td>16641</td>\n",
       "    </tr>\n",
       "    <tr>\n",
       "      <th>1995-05-01</th>\n",
       "      <td>121</td>\n",
       "      <td>May</td>\n",
       "      <td>1995</td>\n",
       "      <td>5</td>\n",
       "      <td>4.795791</td>\n",
       "      <td>14641</td>\n",
       "    </tr>\n",
       "    <tr>\n",
       "      <th>...</th>\n",
       "      <td>...</td>\n",
       "      <td>...</td>\n",
       "      <td>...</td>\n",
       "      <td>...</td>\n",
       "      <td>...</td>\n",
       "      <td>...</td>\n",
       "    </tr>\n",
       "    <tr>\n",
       "      <th>2002-08-01</th>\n",
       "      <td>405</td>\n",
       "      <td>Aug</td>\n",
       "      <td>2002</td>\n",
       "      <td>92</td>\n",
       "      <td>6.003887</td>\n",
       "      <td>164025</td>\n",
       "    </tr>\n",
       "    <tr>\n",
       "      <th>2002-09-01</th>\n",
       "      <td>355</td>\n",
       "      <td>Sep</td>\n",
       "      <td>2002</td>\n",
       "      <td>93</td>\n",
       "      <td>5.872118</td>\n",
       "      <td>126025</td>\n",
       "    </tr>\n",
       "    <tr>\n",
       "      <th>2002-10-01</th>\n",
       "      <td>306</td>\n",
       "      <td>Oct</td>\n",
       "      <td>2002</td>\n",
       "      <td>94</td>\n",
       "      <td>5.723585</td>\n",
       "      <td>93636</td>\n",
       "    </tr>\n",
       "    <tr>\n",
       "      <th>2002-11-01</th>\n",
       "      <td>271</td>\n",
       "      <td>Nov</td>\n",
       "      <td>2002</td>\n",
       "      <td>95</td>\n",
       "      <td>5.602119</td>\n",
       "      <td>73441</td>\n",
       "    </tr>\n",
       "    <tr>\n",
       "      <th>2002-12-01</th>\n",
       "      <td>306</td>\n",
       "      <td>Dec</td>\n",
       "      <td>2002</td>\n",
       "      <td>96</td>\n",
       "      <td>5.723585</td>\n",
       "      <td>93636</td>\n",
       "    </tr>\n",
       "  </tbody>\n",
       "</table>\n",
       "<p>96 rows × 6 columns</p>\n",
       "</div>"
      ],
      "text/plain": [
       "            Passengers month  year   t       log    t_sq\n",
       "Month                                                   \n",
       "1995-01-01         112   Jan  1995   1  4.718499   12544\n",
       "1995-02-01         118   Feb  1995   2  4.770685   13924\n",
       "1995-03-01         132   Mar  1995   3  4.882802   17424\n",
       "1995-04-01         129   Apr  1995   4  4.859812   16641\n",
       "1995-05-01         121   May  1995   5  4.795791   14641\n",
       "...                ...   ...   ...  ..       ...     ...\n",
       "2002-08-01         405   Aug  2002  92  6.003887  164025\n",
       "2002-09-01         355   Sep  2002  93  5.872118  126025\n",
       "2002-10-01         306   Oct  2002  94  5.723585   93636\n",
       "2002-11-01         271   Nov  2002  95  5.602119   73441\n",
       "2002-12-01         306   Dec  2002  96  5.723585   93636\n",
       "\n",
       "[96 rows x 6 columns]"
      ]
     },
     "execution_count": 25,
     "metadata": {},
     "output_type": "execute_result"
    }
   ],
   "source": [
    "df_tran"
   ]
  },
  {
   "cell_type": "markdown",
   "metadata": {},
   "source": [
    "# Spliting Data"
   ]
  },
  {
   "cell_type": "code",
   "execution_count": 26,
   "metadata": {},
   "outputs": [],
   "source": [
    "train= df_tran.head(int(len(df_tran['Passengers'])*0.7))"
   ]
  },
  {
   "cell_type": "code",
   "execution_count": 27,
   "metadata": {},
   "outputs": [
    {
     "data": {
      "text/html": [
       "<div>\n",
       "<style scoped>\n",
       "    .dataframe tbody tr th:only-of-type {\n",
       "        vertical-align: middle;\n",
       "    }\n",
       "\n",
       "    .dataframe tbody tr th {\n",
       "        vertical-align: top;\n",
       "    }\n",
       "\n",
       "    .dataframe thead th {\n",
       "        text-align: right;\n",
       "    }\n",
       "</style>\n",
       "<table border=\"1\" class=\"dataframe\">\n",
       "  <thead>\n",
       "    <tr style=\"text-align: right;\">\n",
       "      <th></th>\n",
       "      <th>Passengers</th>\n",
       "      <th>month</th>\n",
       "      <th>year</th>\n",
       "      <th>t</th>\n",
       "      <th>log</th>\n",
       "      <th>t_sq</th>\n",
       "    </tr>\n",
       "    <tr>\n",
       "      <th>Month</th>\n",
       "      <th></th>\n",
       "      <th></th>\n",
       "      <th></th>\n",
       "      <th></th>\n",
       "      <th></th>\n",
       "      <th></th>\n",
       "    </tr>\n",
       "  </thead>\n",
       "  <tbody>\n",
       "    <tr>\n",
       "      <th>1995-01-01</th>\n",
       "      <td>112</td>\n",
       "      <td>Jan</td>\n",
       "      <td>1995</td>\n",
       "      <td>1</td>\n",
       "      <td>4.718499</td>\n",
       "      <td>12544</td>\n",
       "    </tr>\n",
       "    <tr>\n",
       "      <th>1995-02-01</th>\n",
       "      <td>118</td>\n",
       "      <td>Feb</td>\n",
       "      <td>1995</td>\n",
       "      <td>2</td>\n",
       "      <td>4.770685</td>\n",
       "      <td>13924</td>\n",
       "    </tr>\n",
       "    <tr>\n",
       "      <th>1995-03-01</th>\n",
       "      <td>132</td>\n",
       "      <td>Mar</td>\n",
       "      <td>1995</td>\n",
       "      <td>3</td>\n",
       "      <td>4.882802</td>\n",
       "      <td>17424</td>\n",
       "    </tr>\n",
       "    <tr>\n",
       "      <th>1995-04-01</th>\n",
       "      <td>129</td>\n",
       "      <td>Apr</td>\n",
       "      <td>1995</td>\n",
       "      <td>4</td>\n",
       "      <td>4.859812</td>\n",
       "      <td>16641</td>\n",
       "    </tr>\n",
       "    <tr>\n",
       "      <th>1995-05-01</th>\n",
       "      <td>121</td>\n",
       "      <td>May</td>\n",
       "      <td>1995</td>\n",
       "      <td>5</td>\n",
       "      <td>4.795791</td>\n",
       "      <td>14641</td>\n",
       "    </tr>\n",
       "    <tr>\n",
       "      <th>...</th>\n",
       "      <td>...</td>\n",
       "      <td>...</td>\n",
       "      <td>...</td>\n",
       "      <td>...</td>\n",
       "      <td>...</td>\n",
       "      <td>...</td>\n",
       "    </tr>\n",
       "    <tr>\n",
       "      <th>2000-03-01</th>\n",
       "      <td>235</td>\n",
       "      <td>Mar</td>\n",
       "      <td>2000</td>\n",
       "      <td>63</td>\n",
       "      <td>5.459586</td>\n",
       "      <td>55225</td>\n",
       "    </tr>\n",
       "    <tr>\n",
       "      <th>2000-04-01</th>\n",
       "      <td>227</td>\n",
       "      <td>Apr</td>\n",
       "      <td>2000</td>\n",
       "      <td>64</td>\n",
       "      <td>5.424950</td>\n",
       "      <td>51529</td>\n",
       "    </tr>\n",
       "    <tr>\n",
       "      <th>2000-05-01</th>\n",
       "      <td>234</td>\n",
       "      <td>May</td>\n",
       "      <td>2000</td>\n",
       "      <td>65</td>\n",
       "      <td>5.455321</td>\n",
       "      <td>54756</td>\n",
       "    </tr>\n",
       "    <tr>\n",
       "      <th>2000-06-01</th>\n",
       "      <td>264</td>\n",
       "      <td>Jun</td>\n",
       "      <td>2000</td>\n",
       "      <td>66</td>\n",
       "      <td>5.575949</td>\n",
       "      <td>69696</td>\n",
       "    </tr>\n",
       "    <tr>\n",
       "      <th>2000-07-01</th>\n",
       "      <td>302</td>\n",
       "      <td>Jul</td>\n",
       "      <td>2000</td>\n",
       "      <td>67</td>\n",
       "      <td>5.710427</td>\n",
       "      <td>91204</td>\n",
       "    </tr>\n",
       "  </tbody>\n",
       "</table>\n",
       "<p>67 rows × 6 columns</p>\n",
       "</div>"
      ],
      "text/plain": [
       "            Passengers month  year   t       log   t_sq\n",
       "Month                                                  \n",
       "1995-01-01         112   Jan  1995   1  4.718499  12544\n",
       "1995-02-01         118   Feb  1995   2  4.770685  13924\n",
       "1995-03-01         132   Mar  1995   3  4.882802  17424\n",
       "1995-04-01         129   Apr  1995   4  4.859812  16641\n",
       "1995-05-01         121   May  1995   5  4.795791  14641\n",
       "...                ...   ...   ...  ..       ...    ...\n",
       "2000-03-01         235   Mar  2000  63  5.459586  55225\n",
       "2000-04-01         227   Apr  2000  64  5.424950  51529\n",
       "2000-05-01         234   May  2000  65  5.455321  54756\n",
       "2000-06-01         264   Jun  2000  66  5.575949  69696\n",
       "2000-07-01         302   Jul  2000  67  5.710427  91204\n",
       "\n",
       "[67 rows x 6 columns]"
      ]
     },
     "execution_count": 27,
     "metadata": {},
     "output_type": "execute_result"
    }
   ],
   "source": [
    "train"
   ]
  },
  {
   "cell_type": "code",
   "execution_count": 28,
   "metadata": {},
   "outputs": [],
   "source": [
    "test= df_tran.tail(int(len(df_tran['Passengers'])-len(train)))"
   ]
  },
  {
   "cell_type": "code",
   "execution_count": 29,
   "metadata": {},
   "outputs": [
    {
     "data": {
      "text/html": [
       "<div>\n",
       "<style scoped>\n",
       "    .dataframe tbody tr th:only-of-type {\n",
       "        vertical-align: middle;\n",
       "    }\n",
       "\n",
       "    .dataframe tbody tr th {\n",
       "        vertical-align: top;\n",
       "    }\n",
       "\n",
       "    .dataframe thead th {\n",
       "        text-align: right;\n",
       "    }\n",
       "</style>\n",
       "<table border=\"1\" class=\"dataframe\">\n",
       "  <thead>\n",
       "    <tr style=\"text-align: right;\">\n",
       "      <th></th>\n",
       "      <th>Passengers</th>\n",
       "      <th>month</th>\n",
       "      <th>year</th>\n",
       "      <th>t</th>\n",
       "      <th>log</th>\n",
       "      <th>t_sq</th>\n",
       "    </tr>\n",
       "    <tr>\n",
       "      <th>Month</th>\n",
       "      <th></th>\n",
       "      <th></th>\n",
       "      <th></th>\n",
       "      <th></th>\n",
       "      <th></th>\n",
       "      <th></th>\n",
       "    </tr>\n",
       "  </thead>\n",
       "  <tbody>\n",
       "    <tr>\n",
       "      <th>2000-08-01</th>\n",
       "      <td>293</td>\n",
       "      <td>Aug</td>\n",
       "      <td>2000</td>\n",
       "      <td>68</td>\n",
       "      <td>5.680173</td>\n",
       "      <td>85849</td>\n",
       "    </tr>\n",
       "    <tr>\n",
       "      <th>2000-09-01</th>\n",
       "      <td>259</td>\n",
       "      <td>Sep</td>\n",
       "      <td>2000</td>\n",
       "      <td>69</td>\n",
       "      <td>5.556828</td>\n",
       "      <td>67081</td>\n",
       "    </tr>\n",
       "    <tr>\n",
       "      <th>2000-10-01</th>\n",
       "      <td>229</td>\n",
       "      <td>Oct</td>\n",
       "      <td>2000</td>\n",
       "      <td>70</td>\n",
       "      <td>5.433722</td>\n",
       "      <td>52441</td>\n",
       "    </tr>\n",
       "    <tr>\n",
       "      <th>2000-11-01</th>\n",
       "      <td>203</td>\n",
       "      <td>Nov</td>\n",
       "      <td>2000</td>\n",
       "      <td>71</td>\n",
       "      <td>5.313206</td>\n",
       "      <td>41209</td>\n",
       "    </tr>\n",
       "    <tr>\n",
       "      <th>2000-12-01</th>\n",
       "      <td>229</td>\n",
       "      <td>Dec</td>\n",
       "      <td>2000</td>\n",
       "      <td>72</td>\n",
       "      <td>5.433722</td>\n",
       "      <td>52441</td>\n",
       "    </tr>\n",
       "    <tr>\n",
       "      <th>2001-01-01</th>\n",
       "      <td>242</td>\n",
       "      <td>Jan</td>\n",
       "      <td>2001</td>\n",
       "      <td>73</td>\n",
       "      <td>5.488938</td>\n",
       "      <td>58564</td>\n",
       "    </tr>\n",
       "    <tr>\n",
       "      <th>2001-02-01</th>\n",
       "      <td>233</td>\n",
       "      <td>Feb</td>\n",
       "      <td>2001</td>\n",
       "      <td>74</td>\n",
       "      <td>5.451038</td>\n",
       "      <td>54289</td>\n",
       "    </tr>\n",
       "    <tr>\n",
       "      <th>2001-03-01</th>\n",
       "      <td>267</td>\n",
       "      <td>Mar</td>\n",
       "      <td>2001</td>\n",
       "      <td>75</td>\n",
       "      <td>5.587249</td>\n",
       "      <td>71289</td>\n",
       "    </tr>\n",
       "    <tr>\n",
       "      <th>2001-04-01</th>\n",
       "      <td>269</td>\n",
       "      <td>Apr</td>\n",
       "      <td>2001</td>\n",
       "      <td>76</td>\n",
       "      <td>5.594711</td>\n",
       "      <td>72361</td>\n",
       "    </tr>\n",
       "    <tr>\n",
       "      <th>2001-05-01</th>\n",
       "      <td>270</td>\n",
       "      <td>May</td>\n",
       "      <td>2001</td>\n",
       "      <td>77</td>\n",
       "      <td>5.598422</td>\n",
       "      <td>72900</td>\n",
       "    </tr>\n",
       "    <tr>\n",
       "      <th>2001-06-01</th>\n",
       "      <td>315</td>\n",
       "      <td>Jun</td>\n",
       "      <td>2001</td>\n",
       "      <td>78</td>\n",
       "      <td>5.752573</td>\n",
       "      <td>99225</td>\n",
       "    </tr>\n",
       "    <tr>\n",
       "      <th>2001-07-01</th>\n",
       "      <td>364</td>\n",
       "      <td>Jul</td>\n",
       "      <td>2001</td>\n",
       "      <td>79</td>\n",
       "      <td>5.897154</td>\n",
       "      <td>132496</td>\n",
       "    </tr>\n",
       "    <tr>\n",
       "      <th>2001-08-01</th>\n",
       "      <td>347</td>\n",
       "      <td>Aug</td>\n",
       "      <td>2001</td>\n",
       "      <td>80</td>\n",
       "      <td>5.849325</td>\n",
       "      <td>120409</td>\n",
       "    </tr>\n",
       "    <tr>\n",
       "      <th>2001-09-01</th>\n",
       "      <td>312</td>\n",
       "      <td>Sep</td>\n",
       "      <td>2001</td>\n",
       "      <td>81</td>\n",
       "      <td>5.743003</td>\n",
       "      <td>97344</td>\n",
       "    </tr>\n",
       "    <tr>\n",
       "      <th>2001-10-01</th>\n",
       "      <td>274</td>\n",
       "      <td>Oct</td>\n",
       "      <td>2001</td>\n",
       "      <td>82</td>\n",
       "      <td>5.613128</td>\n",
       "      <td>75076</td>\n",
       "    </tr>\n",
       "    <tr>\n",
       "      <th>2001-11-01</th>\n",
       "      <td>237</td>\n",
       "      <td>Nov</td>\n",
       "      <td>2001</td>\n",
       "      <td>83</td>\n",
       "      <td>5.468060</td>\n",
       "      <td>56169</td>\n",
       "    </tr>\n",
       "    <tr>\n",
       "      <th>2001-12-01</th>\n",
       "      <td>278</td>\n",
       "      <td>Dec</td>\n",
       "      <td>2001</td>\n",
       "      <td>84</td>\n",
       "      <td>5.627621</td>\n",
       "      <td>77284</td>\n",
       "    </tr>\n",
       "    <tr>\n",
       "      <th>2002-01-01</th>\n",
       "      <td>284</td>\n",
       "      <td>Jan</td>\n",
       "      <td>2002</td>\n",
       "      <td>85</td>\n",
       "      <td>5.648974</td>\n",
       "      <td>80656</td>\n",
       "    </tr>\n",
       "    <tr>\n",
       "      <th>2002-02-01</th>\n",
       "      <td>277</td>\n",
       "      <td>Feb</td>\n",
       "      <td>2002</td>\n",
       "      <td>86</td>\n",
       "      <td>5.624018</td>\n",
       "      <td>76729</td>\n",
       "    </tr>\n",
       "    <tr>\n",
       "      <th>2002-03-01</th>\n",
       "      <td>317</td>\n",
       "      <td>Mar</td>\n",
       "      <td>2002</td>\n",
       "      <td>87</td>\n",
       "      <td>5.758902</td>\n",
       "      <td>100489</td>\n",
       "    </tr>\n",
       "    <tr>\n",
       "      <th>2002-04-01</th>\n",
       "      <td>313</td>\n",
       "      <td>Apr</td>\n",
       "      <td>2002</td>\n",
       "      <td>88</td>\n",
       "      <td>5.746203</td>\n",
       "      <td>97969</td>\n",
       "    </tr>\n",
       "    <tr>\n",
       "      <th>2002-05-01</th>\n",
       "      <td>318</td>\n",
       "      <td>May</td>\n",
       "      <td>2002</td>\n",
       "      <td>89</td>\n",
       "      <td>5.762051</td>\n",
       "      <td>101124</td>\n",
       "    </tr>\n",
       "    <tr>\n",
       "      <th>2002-06-01</th>\n",
       "      <td>374</td>\n",
       "      <td>Jun</td>\n",
       "      <td>2002</td>\n",
       "      <td>90</td>\n",
       "      <td>5.924256</td>\n",
       "      <td>139876</td>\n",
       "    </tr>\n",
       "    <tr>\n",
       "      <th>2002-07-01</th>\n",
       "      <td>413</td>\n",
       "      <td>Jul</td>\n",
       "      <td>2002</td>\n",
       "      <td>91</td>\n",
       "      <td>6.023448</td>\n",
       "      <td>170569</td>\n",
       "    </tr>\n",
       "    <tr>\n",
       "      <th>2002-08-01</th>\n",
       "      <td>405</td>\n",
       "      <td>Aug</td>\n",
       "      <td>2002</td>\n",
       "      <td>92</td>\n",
       "      <td>6.003887</td>\n",
       "      <td>164025</td>\n",
       "    </tr>\n",
       "    <tr>\n",
       "      <th>2002-09-01</th>\n",
       "      <td>355</td>\n",
       "      <td>Sep</td>\n",
       "      <td>2002</td>\n",
       "      <td>93</td>\n",
       "      <td>5.872118</td>\n",
       "      <td>126025</td>\n",
       "    </tr>\n",
       "    <tr>\n",
       "      <th>2002-10-01</th>\n",
       "      <td>306</td>\n",
       "      <td>Oct</td>\n",
       "      <td>2002</td>\n",
       "      <td>94</td>\n",
       "      <td>5.723585</td>\n",
       "      <td>93636</td>\n",
       "    </tr>\n",
       "    <tr>\n",
       "      <th>2002-11-01</th>\n",
       "      <td>271</td>\n",
       "      <td>Nov</td>\n",
       "      <td>2002</td>\n",
       "      <td>95</td>\n",
       "      <td>5.602119</td>\n",
       "      <td>73441</td>\n",
       "    </tr>\n",
       "    <tr>\n",
       "      <th>2002-12-01</th>\n",
       "      <td>306</td>\n",
       "      <td>Dec</td>\n",
       "      <td>2002</td>\n",
       "      <td>96</td>\n",
       "      <td>5.723585</td>\n",
       "      <td>93636</td>\n",
       "    </tr>\n",
       "  </tbody>\n",
       "</table>\n",
       "</div>"
      ],
      "text/plain": [
       "            Passengers month  year   t       log    t_sq\n",
       "Month                                                   \n",
       "2000-08-01         293   Aug  2000  68  5.680173   85849\n",
       "2000-09-01         259   Sep  2000  69  5.556828   67081\n",
       "2000-10-01         229   Oct  2000  70  5.433722   52441\n",
       "2000-11-01         203   Nov  2000  71  5.313206   41209\n",
       "2000-12-01         229   Dec  2000  72  5.433722   52441\n",
       "2001-01-01         242   Jan  2001  73  5.488938   58564\n",
       "2001-02-01         233   Feb  2001  74  5.451038   54289\n",
       "2001-03-01         267   Mar  2001  75  5.587249   71289\n",
       "2001-04-01         269   Apr  2001  76  5.594711   72361\n",
       "2001-05-01         270   May  2001  77  5.598422   72900\n",
       "2001-06-01         315   Jun  2001  78  5.752573   99225\n",
       "2001-07-01         364   Jul  2001  79  5.897154  132496\n",
       "2001-08-01         347   Aug  2001  80  5.849325  120409\n",
       "2001-09-01         312   Sep  2001  81  5.743003   97344\n",
       "2001-10-01         274   Oct  2001  82  5.613128   75076\n",
       "2001-11-01         237   Nov  2001  83  5.468060   56169\n",
       "2001-12-01         278   Dec  2001  84  5.627621   77284\n",
       "2002-01-01         284   Jan  2002  85  5.648974   80656\n",
       "2002-02-01         277   Feb  2002  86  5.624018   76729\n",
       "2002-03-01         317   Mar  2002  87  5.758902  100489\n",
       "2002-04-01         313   Apr  2002  88  5.746203   97969\n",
       "2002-05-01         318   May  2002  89  5.762051  101124\n",
       "2002-06-01         374   Jun  2002  90  5.924256  139876\n",
       "2002-07-01         413   Jul  2002  91  6.023448  170569\n",
       "2002-08-01         405   Aug  2002  92  6.003887  164025\n",
       "2002-09-01         355   Sep  2002  93  5.872118  126025\n",
       "2002-10-01         306   Oct  2002  94  5.723585   93636\n",
       "2002-11-01         271   Nov  2002  95  5.602119   73441\n",
       "2002-12-01         306   Dec  2002  96  5.723585   93636"
      ]
     },
     "execution_count": 29,
     "metadata": {},
     "output_type": "execute_result"
    }
   ],
   "source": [
    "test"
   ]
  },
  {
   "cell_type": "markdown",
   "metadata": {},
   "source": [
    "# Model building"
   ]
  },
  {
   "cell_type": "code",
   "execution_count": 30,
   "metadata": {},
   "outputs": [
    {
     "data": {
      "text/plain": [
       "47.5625170422922"
      ]
     },
     "execution_count": 30,
     "metadata": {},
     "output_type": "execute_result"
    }
   ],
   "source": [
    "#Linear Model\n",
    "import statsmodels.formula.api as smf \n",
    "\n",
    "linear_model = smf.ols('Passengers~t',data=train).fit()\n",
    "pred_linear =  pd.Series(linear_model.predict(pd.DataFrame(test['t'])))\n",
    "rmse_linear = np.sqrt(np.mean((np.array(test['Passengers'])-np.array(pred_linear))**2))\n",
    "rmse_linear"
   ]
  },
  {
   "cell_type": "code",
   "execution_count": 31,
   "metadata": {},
   "outputs": [
    {
     "name": "stdout",
     "output_type": "stream",
     "text": [
      "predicted data\n"
     ]
    },
    {
     "data": {
      "text/plain": [
       "Month\n",
       "2000-08-01    247.789688\n",
       "2000-09-01    249.829156\n",
       "2000-10-01    251.868625\n",
       "2000-11-01    253.908093\n",
       "2000-12-01    255.947562\n",
       "2001-01-01    257.987030\n",
       "2001-02-01    260.026499\n",
       "2001-03-01    262.065967\n",
       "2001-04-01    264.105435\n",
       "2001-05-01    266.144904\n",
       "dtype: float64"
      ]
     },
     "execution_count": 31,
     "metadata": {},
     "output_type": "execute_result"
    }
   ],
   "source": [
    "print('predicted data')\n",
    "pred_linear.head(10)"
   ]
  },
  {
   "cell_type": "code",
   "execution_count": 32,
   "metadata": {},
   "outputs": [
    {
     "name": "stdout",
     "output_type": "stream",
     "text": [
      "original data\n"
     ]
    },
    {
     "data": {
      "text/plain": [
       "Month\n",
       "2000-08-01    293\n",
       "2000-09-01    259\n",
       "2000-10-01    229\n",
       "2000-11-01    203\n",
       "2000-12-01    229\n",
       "2001-01-01    242\n",
       "2001-02-01    233\n",
       "2001-03-01    267\n",
       "2001-04-01    269\n",
       "2001-05-01    270\n",
       "Name: Passengers, dtype: int64"
      ]
     },
     "execution_count": 32,
     "metadata": {},
     "output_type": "execute_result"
    }
   ],
   "source": [
    "\n",
    "print('original data')\n",
    "test['Passengers'].head(10)"
   ]
  },
  {
   "cell_type": "code",
   "execution_count": 33,
   "metadata": {},
   "outputs": [
    {
     "data": {
      "text/plain": [
       "[<matplotlib.lines.Line2D at 0x17eb46390f0>]"
      ]
     },
     "execution_count": 33,
     "metadata": {},
     "output_type": "execute_result"
    },
    {
     "data": {
      "image/png": "[encoded data removed]",
      "text/plain": [
       "<Figure size 576x432 with 1 Axes>"
      ]
     },
     "metadata": {
      "needs_background": "light"
     },
     "output_type": "display_data"
    }
   ],
   "source": [
    "\n",
    "plt.figure(figsize=(8,6))\n",
    "plt.title('Plot of predicted data vs original data')\n",
    "plt.plot(test['Passengers'],color='r')\n",
    "plt.plot(pred_linear, )"
   ]
  },
  {
   "cell_type": "code",
   "execution_count": 34,
   "metadata": {},
   "outputs": [
    {
     "data": {
      "text/plain": [
       "37.02470119391688"
      ]
     },
     "execution_count": 34,
     "metadata": {},
     "output_type": "execute_result"
    }
   ],
   "source": [
    "#Quadratic \n",
    "\n",
    "Quad = smf.ols('Passengers~t+t_sq',data=train).fit()\n",
    "pred_Quad = pd.Series(Quad.predict(test[[\"t\",\"t_sq\"]]))\n",
    "rmse_Quad = np.sqrt(np.mean((np.array(test['Passengers'])-np.array(pred_Quad))**2))\n",
    "rmse_Quad"
   ]
  },
  {
   "cell_type": "code",
   "execution_count": 35,
   "metadata": {},
   "outputs": [
    {
     "name": "stdout",
     "output_type": "stream",
     "text": [
      "predicted data\n"
     ]
    },
    {
     "data": {
      "text/plain": [
       "Month\n",
       "2000-08-01    309.135804\n",
       "2000-09-01    265.994891\n",
       "2000-10-01    232.410205\n",
       "2000-11-01    206.714962\n",
       "2000-12-01    233.023371\n",
       "2001-01-01    247.504561\n",
       "2001-02-01    237.914616\n",
       "2001-03-01    277.575815\n",
       "2001-04-01    280.364054\n",
       "2001-05-01    281.918410\n",
       "dtype: float64"
      ]
     },
     "execution_count": 35,
     "metadata": {},
     "output_type": "execute_result"
    }
   ],
   "source": [
    "print('predicted data')\n",
    "pred_Quad.head(10)"
   ]
  },
  {
   "cell_type": "code",
   "execution_count": 36,
   "metadata": {},
   "outputs": [
    {
     "name": "stdout",
     "output_type": "stream",
     "text": [
      "original data\n"
     ]
    },
    {
     "data": {
      "text/plain": [
       "Month\n",
       "2000-08-01    293\n",
       "2000-09-01    259\n",
       "2000-10-01    229\n",
       "2000-11-01    203\n",
       "2000-12-01    229\n",
       "2001-01-01    242\n",
       "2001-02-01    233\n",
       "2001-03-01    267\n",
       "2001-04-01    269\n",
       "2001-05-01    270\n",
       "Name: Passengers, dtype: int64"
      ]
     },
     "execution_count": 36,
     "metadata": {},
     "output_type": "execute_result"
    }
   ],
   "source": [
    "print('original data')\n",
    "test['Passengers'].head(10)"
   ]
  },
  {
   "cell_type": "code",
   "execution_count": 37,
   "metadata": {},
   "outputs": [
    {
     "data": {
      "text/plain": [
       "[<matplotlib.lines.Line2D at 0x17eb5674780>]"
      ]
     },
     "execution_count": 37,
     "metadata": {},
     "output_type": "execute_result"
    },
    {
     "data": {
      "image/png": "[encoded data removed]",
      "text/plain": [
       "<Figure size 576x432 with 1 Axes>"
      ]
     },
     "metadata": {
      "needs_background": "light"
     },
     "output_type": "display_data"
    }
   ],
   "source": [
    "plt.figure(figsize=(8,6))\n",
    "plt.title('Plot of predicted data vs original data')\n",
    "plt.plot(test['Passengers'],color='r')\n",
    "plt.plot(pred_Quad, )"
   ]
  },
  {
   "cell_type": "code",
   "execution_count": 38,
   "metadata": {},
   "outputs": [
    {
     "data": {
      "text/plain": [
       "0.1407798376959751"
      ]
     },
     "execution_count": 38,
     "metadata": {},
     "output_type": "execute_result"
    }
   ],
   "source": [
    "#log transformation \n",
    "log_model = smf.ols('log~t',data=train).fit()\n",
    "pred_log = pd.Series(log_model.predict(test[[\"t\"]]))\n",
    "rmse_log = np.sqrt(np.mean((np.array(test['log'])-np.array(pred_log))**2))\n",
    "rmse_log"
   ]
  },
  {
   "cell_type": "code",
   "execution_count": 39,
   "metadata": {},
   "outputs": [
    {
     "name": "stdout",
     "output_type": "stream",
     "text": [
      "predicted data\n"
     ]
    },
    {
     "data": {
      "text/plain": [
       "Month\n",
       "2000-08-01    5.546294\n",
       "2000-09-01    5.557887\n",
       "2000-10-01    5.569480\n",
       "2000-11-01    5.581073\n",
       "2000-12-01    5.592666\n",
       "2001-01-01    5.604259\n",
       "2001-02-01    5.615852\n",
       "2001-03-01    5.627445\n",
       "2001-04-01    5.639038\n",
       "2001-05-01    5.650631\n",
       "dtype: float64"
      ]
     },
     "execution_count": 39,
     "metadata": {},
     "output_type": "execute_result"
    }
   ],
   "source": [
    "print('predicted data')\n",
    "pred_log.head(10)"
   ]
  },
  {
   "cell_type": "code",
   "execution_count": 40,
   "metadata": {},
   "outputs": [
    {
     "name": "stdout",
     "output_type": "stream",
     "text": [
      "original data\n"
     ]
    },
    {
     "data": {
      "text/plain": [
       "Month\n",
       "2000-08-01    5.680173\n",
       "2000-09-01    5.556828\n",
       "2000-10-01    5.433722\n",
       "2000-11-01    5.313206\n",
       "2000-12-01    5.433722\n",
       "2001-01-01    5.488938\n",
       "2001-02-01    5.451038\n",
       "2001-03-01    5.587249\n",
       "2001-04-01    5.594711\n",
       "2001-05-01    5.598422\n",
       "Name: log, dtype: float64"
      ]
     },
     "execution_count": 40,
     "metadata": {},
     "output_type": "execute_result"
    }
   ],
   "source": [
    "print('original data')\n",
    "test['log'].head(10)"
   ]
  },
  {
   "cell_type": "code",
   "execution_count": 41,
   "metadata": {},
   "outputs": [
    {
     "data": {
      "text/plain": [
       "[<matplotlib.lines.Line2D at 0x17eb570ad30>]"
      ]
     },
     "execution_count": 41,
     "metadata": {},
     "output_type": "execute_result"
    },
    {
     "data": {
      "image/png": "[encoded data removed]",
      "text/plain": [
       "<Figure size 576x432 with 1 Axes>"
      ]
     },
     "metadata": {
      "needs_background": "light"
     },
     "output_type": "display_data"
    }
   ],
   "source": [
    "plt.figure(figsize=(8,6))\n",
    "plt.title('Plot of predicted data vs log data')\n",
    "plt.plot(test['log'],color='r')\n",
    "plt.plot(pred_log, )"
   ]
  },
  {
   "cell_type": "code",
   "execution_count": 42,
   "metadata": {},
   "outputs": [
    {
     "data": {
      "text/plain": [
       "0.33147283918597903"
      ]
     },
     "execution_count": 42,
     "metadata": {},
     "output_type": "execute_result"
    }
   ],
   "source": [
    "#log with sq\n",
    "log_sq_model = smf.ols('log~t+t_sq',data=train).fit()\n",
    "pred_log_sq = pd.Series(log_sq_model.predict(test[[\"t\",'t_sq']]))\n",
    "rmse_log_sq = np.sqrt(np.mean((np.array(test['log'])-np.array(pred_log_sq))**2))\n",
    "rmse_log_sq"
   ]
  },
  {
   "cell_type": "code",
   "execution_count": 43,
   "metadata": {},
   "outputs": [
    {
     "name": "stdout",
     "output_type": "stream",
     "text": [
      "predicted data\n"
     ]
    },
    {
     "data": {
      "text/plain": [
       "Month\n",
       "2000-08-01    5.841254\n",
       "2000-09-01    5.635614\n",
       "2000-10-01    5.475922\n",
       "2000-11-01    5.354163\n",
       "2000-12-01    5.482444\n",
       "2001-01-01    5.553858\n",
       "2001-02-01    5.509536\n",
       "2001-03-01    5.702019\n",
       "2001-04-01    5.717212\n",
       "2001-05-01    5.726472\n",
       "dtype: float64"
      ]
     },
     "execution_count": 43,
     "metadata": {},
     "output_type": "execute_result"
    }
   ],
   "source": [
    "print('predicted data')\n",
    "pred_log_sq.head(10)"
   ]
  },
  {
   "cell_type": "code",
   "execution_count": 44,
   "metadata": {},
   "outputs": [
    {
     "name": "stdout",
     "output_type": "stream",
     "text": [
      "original data\n"
     ]
    },
    {
     "data": {
      "text/plain": [
       "Month\n",
       "2000-08-01    5.680173\n",
       "2000-09-01    5.556828\n",
       "2000-10-01    5.433722\n",
       "2000-11-01    5.313206\n",
       "2000-12-01    5.433722\n",
       "2001-01-01    5.488938\n",
       "2001-02-01    5.451038\n",
       "2001-03-01    5.587249\n",
       "2001-04-01    5.594711\n",
       "2001-05-01    5.598422\n",
       "Name: log, dtype: float64"
      ]
     },
     "execution_count": 44,
     "metadata": {},
     "output_type": "execute_result"
    }
   ],
   "source": [
    "print('original data')\n",
    "test['log'].head(10)"
   ]
  },
  {
   "cell_type": "code",
   "execution_count": 45,
   "metadata": {},
   "outputs": [
    {
     "data": {
      "text/plain": [
       "[<matplotlib.lines.Line2D at 0x17eb5776550>]"
      ]
     },
     "execution_count": 45,
     "metadata": {},
     "output_type": "execute_result"
    },
    {
     "data": {
      "image/png": "[encoded data removed]",
      "text/plain": [
       "<Figure size 576x432 with 1 Axes>"
      ]
     },
     "metadata": {
      "needs_background": "light"
     },
     "output_type": "display_data"
    }
   ],
   "source": [
    "plt.figure(figsize=(8,6))\n",
    "plt.title('Plot of predicted data vs log data')\n",
    "plt.plot(test['log'],color='r')\n",
    "plt.plot(pred_log_sq, )"
   ]
  },
  {
   "cell_type": "code",
   "execution_count": 46,
   "metadata": {},
   "outputs": [
    {
     "data": {
      "text/html": [
       "<div>\n",
       "<style scoped>\n",
       "    .dataframe tbody tr th:only-of-type {\n",
       "        vertical-align: middle;\n",
       "    }\n",
       "\n",
       "    .dataframe tbody tr th {\n",
       "        vertical-align: top;\n",
       "    }\n",
       "\n",
       "    .dataframe thead th {\n",
       "        text-align: right;\n",
       "    }\n",
       "</style>\n",
       "<table border=\"1\" class=\"dataframe\">\n",
       "  <thead>\n",
       "    <tr style=\"text-align: right;\">\n",
       "      <th></th>\n",
       "      <th>MODEL</th>\n",
       "      <th>RMSE_Values</th>\n",
       "    </tr>\n",
       "  </thead>\n",
       "  <tbody>\n",
       "    <tr>\n",
       "      <th>2</th>\n",
       "      <td>rmse_log</td>\n",
       "      <td>0.140780</td>\n",
       "    </tr>\n",
       "    <tr>\n",
       "      <th>3</th>\n",
       "      <td>rmse_log_sq</td>\n",
       "      <td>0.331473</td>\n",
       "    </tr>\n",
       "    <tr>\n",
       "      <th>1</th>\n",
       "      <td>rmse_Quad</td>\n",
       "      <td>37.024701</td>\n",
       "    </tr>\n",
       "    <tr>\n",
       "      <th>0</th>\n",
       "      <td>rmse_linear</td>\n",
       "      <td>47.562517</td>\n",
       "    </tr>\n",
       "  </tbody>\n",
       "</table>\n",
       "</div>"
      ],
      "text/plain": [
       "         MODEL  RMSE_Values\n",
       "2     rmse_log     0.140780\n",
       "3  rmse_log_sq     0.331473\n",
       "1    rmse_Quad    37.024701\n",
       "0  rmse_linear    47.562517"
      ]
     },
     "execution_count": 46,
     "metadata": {},
     "output_type": "execute_result"
    }
   ],
   "source": [
    "#Compare the results \n",
    "\n",
    "data = {\"MODEL\":pd.Series([\"rmse_linear\",\"rmse_Quad\",\"rmse_log\",\"rmse_log_sq\"]),\"RMSE_Values\":pd.Series([rmse_linear,rmse_Quad,rmse_log,rmse_log_sq])}\n",
    "table_rmse=pd.DataFrame(data)\n",
    "table_rmse.sort_values(['RMSE_Values'])"
   ]
  },
  {
   "cell_type": "markdown",
   "metadata": {},
   "source": [
    "# Predicting for new data"
   ]
  },
  {
   "cell_type": "code",
   "execution_count": 47,
   "metadata": {},
   "outputs": [
    {
     "data": {
      "text/html": [
       "<div>\n",
       "<style scoped>\n",
       "    .dataframe tbody tr th:only-of-type {\n",
       "        vertical-align: middle;\n",
       "    }\n",
       "\n",
       "    .dataframe tbody tr th {\n",
       "        vertical-align: top;\n",
       "    }\n",
       "\n",
       "    .dataframe thead th {\n",
       "        text-align: right;\n",
       "    }\n",
       "</style>\n",
       "<table border=\"1\" class=\"dataframe\">\n",
       "  <thead>\n",
       "    <tr style=\"text-align: right;\">\n",
       "      <th></th>\n",
       "      <th>Passengers</th>\n",
       "      <th>month</th>\n",
       "      <th>year</th>\n",
       "      <th>t</th>\n",
       "      <th>log</th>\n",
       "      <th>t_sq</th>\n",
       "    </tr>\n",
       "    <tr>\n",
       "      <th>Month</th>\n",
       "      <th></th>\n",
       "      <th></th>\n",
       "      <th></th>\n",
       "      <th></th>\n",
       "      <th></th>\n",
       "      <th></th>\n",
       "    </tr>\n",
       "  </thead>\n",
       "  <tbody>\n",
       "    <tr>\n",
       "      <th>1995-01-01</th>\n",
       "      <td>112</td>\n",
       "      <td>Jan</td>\n",
       "      <td>1995</td>\n",
       "      <td>1</td>\n",
       "      <td>4.718499</td>\n",
       "      <td>12544</td>\n",
       "    </tr>\n",
       "    <tr>\n",
       "      <th>1995-02-01</th>\n",
       "      <td>118</td>\n",
       "      <td>Feb</td>\n",
       "      <td>1995</td>\n",
       "      <td>2</td>\n",
       "      <td>4.770685</td>\n",
       "      <td>13924</td>\n",
       "    </tr>\n",
       "    <tr>\n",
       "      <th>1995-03-01</th>\n",
       "      <td>132</td>\n",
       "      <td>Mar</td>\n",
       "      <td>1995</td>\n",
       "      <td>3</td>\n",
       "      <td>4.882802</td>\n",
       "      <td>17424</td>\n",
       "    </tr>\n",
       "    <tr>\n",
       "      <th>1995-04-01</th>\n",
       "      <td>129</td>\n",
       "      <td>Apr</td>\n",
       "      <td>1995</td>\n",
       "      <td>4</td>\n",
       "      <td>4.859812</td>\n",
       "      <td>16641</td>\n",
       "    </tr>\n",
       "    <tr>\n",
       "      <th>1995-05-01</th>\n",
       "      <td>121</td>\n",
       "      <td>May</td>\n",
       "      <td>1995</td>\n",
       "      <td>5</td>\n",
       "      <td>4.795791</td>\n",
       "      <td>14641</td>\n",
       "    </tr>\n",
       "    <tr>\n",
       "      <th>...</th>\n",
       "      <td>...</td>\n",
       "      <td>...</td>\n",
       "      <td>...</td>\n",
       "      <td>...</td>\n",
       "      <td>...</td>\n",
       "      <td>...</td>\n",
       "    </tr>\n",
       "    <tr>\n",
       "      <th>2002-08-01</th>\n",
       "      <td>405</td>\n",
       "      <td>Aug</td>\n",
       "      <td>2002</td>\n",
       "      <td>92</td>\n",
       "      <td>6.003887</td>\n",
       "      <td>164025</td>\n",
       "    </tr>\n",
       "    <tr>\n",
       "      <th>2002-09-01</th>\n",
       "      <td>355</td>\n",
       "      <td>Sep</td>\n",
       "      <td>2002</td>\n",
       "      <td>93</td>\n",
       "      <td>5.872118</td>\n",
       "      <td>126025</td>\n",
       "    </tr>\n",
       "    <tr>\n",
       "      <th>2002-10-01</th>\n",
       "      <td>306</td>\n",
       "      <td>Oct</td>\n",
       "      <td>2002</td>\n",
       "      <td>94</td>\n",
       "      <td>5.723585</td>\n",
       "      <td>93636</td>\n",
       "    </tr>\n",
       "    <tr>\n",
       "      <th>2002-11-01</th>\n",
       "      <td>271</td>\n",
       "      <td>Nov</td>\n",
       "      <td>2002</td>\n",
       "      <td>95</td>\n",
       "      <td>5.602119</td>\n",
       "      <td>73441</td>\n",
       "    </tr>\n",
       "    <tr>\n",
       "      <th>2002-12-01</th>\n",
       "      <td>306</td>\n",
       "      <td>Dec</td>\n",
       "      <td>2002</td>\n",
       "      <td>96</td>\n",
       "      <td>5.723585</td>\n",
       "      <td>93636</td>\n",
       "    </tr>\n",
       "  </tbody>\n",
       "</table>\n",
       "<p>96 rows × 6 columns</p>\n",
       "</div>"
      ],
      "text/plain": [
       "            Passengers month  year   t       log    t_sq\n",
       "Month                                                   \n",
       "1995-01-01         112   Jan  1995   1  4.718499   12544\n",
       "1995-02-01         118   Feb  1995   2  4.770685   13924\n",
       "1995-03-01         132   Mar  1995   3  4.882802   17424\n",
       "1995-04-01         129   Apr  1995   4  4.859812   16641\n",
       "1995-05-01         121   May  1995   5  4.795791   14641\n",
       "...                ...   ...   ...  ..       ...     ...\n",
       "2002-08-01         405   Aug  2002  92  6.003887  164025\n",
       "2002-09-01         355   Sep  2002  93  5.872118  126025\n",
       "2002-10-01         306   Oct  2002  94  5.723585   93636\n",
       "2002-11-01         271   Nov  2002  95  5.602119   73441\n",
       "2002-12-01         306   Dec  2002  96  5.723585   93636\n",
       "\n",
       "[96 rows x 6 columns]"
      ]
     },
     "execution_count": 47,
     "metadata": {},
     "output_type": "execute_result"
    }
   ],
   "source": [
    "df_tran"
   ]
  },
  {
   "cell_type": "code",
   "execution_count": 48,
   "metadata": {},
   "outputs": [],
   "source": [
    "#Build the model on entire data set\n",
    "model_full = smf.ols('log~t+t_sq',data=df_tran).fit()"
   ]
  },
  {
   "cell_type": "code",
   "execution_count": 54,
   "metadata": {},
   "outputs": [
    {
     "data": {
      "text/plain": [
       "Month\n",
       "1995-01-01    126.610732\n",
       "1995-02-01    128.249299\n",
       "1995-03-01    131.355263\n",
       "1995-04-01    131.560781\n",
       "1995-05-01    130.931863\n",
       "                 ...    \n",
       "2002-08-01    467.089176\n",
       "2002-09-01    385.188668\n",
       "2002-10-01    327.093951\n",
       "2002-11-01    296.023759\n",
       "2002-12-01    330.812576\n",
       "Length: 96, dtype: float64"
      ]
     },
     "execution_count": 54,
     "metadata": {},
     "output_type": "execute_result"
    }
   ],
   "source": [
    "pred_new  = pd.Series(np.exp(model_full.predict(df_tran)))\n",
    "pred_new"
   ]
  },
  {
   "cell_type": "code",
   "execution_count": 55,
   "metadata": {},
   "outputs": [],
   "source": [
    "df_tran['prediction']=pred_new"
   ]
  },
  {
   "cell_type": "code",
   "execution_count": 56,
   "metadata": {},
   "outputs": [
    {
     "data": {
      "text/html": [
       "<div>\n",
       "<style scoped>\n",
       "    .dataframe tbody tr th:only-of-type {\n",
       "        vertical-align: middle;\n",
       "    }\n",
       "\n",
       "    .dataframe tbody tr th {\n",
       "        vertical-align: top;\n",
       "    }\n",
       "\n",
       "    .dataframe thead th {\n",
       "        text-align: right;\n",
       "    }\n",
       "</style>\n",
       "<table border=\"1\" class=\"dataframe\">\n",
       "  <thead>\n",
       "    <tr style=\"text-align: right;\">\n",
       "      <th></th>\n",
       "      <th>Passengers</th>\n",
       "      <th>month</th>\n",
       "      <th>year</th>\n",
       "      <th>t</th>\n",
       "      <th>log</th>\n",
       "      <th>t_sq</th>\n",
       "      <th>prediction</th>\n",
       "    </tr>\n",
       "    <tr>\n",
       "      <th>Month</th>\n",
       "      <th></th>\n",
       "      <th></th>\n",
       "      <th></th>\n",
       "      <th></th>\n",
       "      <th></th>\n",
       "      <th></th>\n",
       "      <th></th>\n",
       "    </tr>\n",
       "  </thead>\n",
       "  <tbody>\n",
       "    <tr>\n",
       "      <th>1995-01-01</th>\n",
       "      <td>112</td>\n",
       "      <td>Jan</td>\n",
       "      <td>1995</td>\n",
       "      <td>1</td>\n",
       "      <td>4.718499</td>\n",
       "      <td>12544</td>\n",
       "      <td>126.610732</td>\n",
       "    </tr>\n",
       "    <tr>\n",
       "      <th>1995-02-01</th>\n",
       "      <td>118</td>\n",
       "      <td>Feb</td>\n",
       "      <td>1995</td>\n",
       "      <td>2</td>\n",
       "      <td>4.770685</td>\n",
       "      <td>13924</td>\n",
       "      <td>128.249299</td>\n",
       "    </tr>\n",
       "    <tr>\n",
       "      <th>1995-03-01</th>\n",
       "      <td>132</td>\n",
       "      <td>Mar</td>\n",
       "      <td>1995</td>\n",
       "      <td>3</td>\n",
       "      <td>4.882802</td>\n",
       "      <td>17424</td>\n",
       "      <td>131.355263</td>\n",
       "    </tr>\n",
       "    <tr>\n",
       "      <th>1995-04-01</th>\n",
       "      <td>129</td>\n",
       "      <td>Apr</td>\n",
       "      <td>1995</td>\n",
       "      <td>4</td>\n",
       "      <td>4.859812</td>\n",
       "      <td>16641</td>\n",
       "      <td>131.560781</td>\n",
       "    </tr>\n",
       "    <tr>\n",
       "      <th>1995-05-01</th>\n",
       "      <td>121</td>\n",
       "      <td>May</td>\n",
       "      <td>1995</td>\n",
       "      <td>5</td>\n",
       "      <td>4.795791</td>\n",
       "      <td>14641</td>\n",
       "      <td>130.931863</td>\n",
       "    </tr>\n",
       "    <tr>\n",
       "      <th>...</th>\n",
       "      <td>...</td>\n",
       "      <td>...</td>\n",
       "      <td>...</td>\n",
       "      <td>...</td>\n",
       "      <td>...</td>\n",
       "      <td>...</td>\n",
       "      <td>...</td>\n",
       "    </tr>\n",
       "    <tr>\n",
       "      <th>2002-08-01</th>\n",
       "      <td>405</td>\n",
       "      <td>Aug</td>\n",
       "      <td>2002</td>\n",
       "      <td>92</td>\n",
       "      <td>6.003887</td>\n",
       "      <td>164025</td>\n",
       "      <td>467.089176</td>\n",
       "    </tr>\n",
       "    <tr>\n",
       "      <th>2002-09-01</th>\n",
       "      <td>355</td>\n",
       "      <td>Sep</td>\n",
       "      <td>2002</td>\n",
       "      <td>93</td>\n",
       "      <td>5.872118</td>\n",
       "      <td>126025</td>\n",
       "      <td>385.188668</td>\n",
       "    </tr>\n",
       "    <tr>\n",
       "      <th>2002-10-01</th>\n",
       "      <td>306</td>\n",
       "      <td>Oct</td>\n",
       "      <td>2002</td>\n",
       "      <td>94</td>\n",
       "      <td>5.723585</td>\n",
       "      <td>93636</td>\n",
       "      <td>327.093951</td>\n",
       "    </tr>\n",
       "    <tr>\n",
       "      <th>2002-11-01</th>\n",
       "      <td>271</td>\n",
       "      <td>Nov</td>\n",
       "      <td>2002</td>\n",
       "      <td>95</td>\n",
       "      <td>5.602119</td>\n",
       "      <td>73441</td>\n",
       "      <td>296.023759</td>\n",
       "    </tr>\n",
       "    <tr>\n",
       "      <th>2002-12-01</th>\n",
       "      <td>306</td>\n",
       "      <td>Dec</td>\n",
       "      <td>2002</td>\n",
       "      <td>96</td>\n",
       "      <td>5.723585</td>\n",
       "      <td>93636</td>\n",
       "      <td>330.812576</td>\n",
       "    </tr>\n",
       "  </tbody>\n",
       "</table>\n",
       "<p>96 rows × 7 columns</p>\n",
       "</div>"
      ],
      "text/plain": [
       "            Passengers month  year   t       log    t_sq  prediction\n",
       "Month                                                               \n",
       "1995-01-01         112   Jan  1995   1  4.718499   12544  126.610732\n",
       "1995-02-01         118   Feb  1995   2  4.770685   13924  128.249299\n",
       "1995-03-01         132   Mar  1995   3  4.882802   17424  131.355263\n",
       "1995-04-01         129   Apr  1995   4  4.859812   16641  131.560781\n",
       "1995-05-01         121   May  1995   5  4.795791   14641  130.931863\n",
       "...                ...   ...   ...  ..       ...     ...         ...\n",
       "2002-08-01         405   Aug  2002  92  6.003887  164025  467.089176\n",
       "2002-09-01         355   Sep  2002  93  5.872118  126025  385.188668\n",
       "2002-10-01         306   Oct  2002  94  5.723585   93636  327.093951\n",
       "2002-11-01         271   Nov  2002  95  5.602119   73441  296.023759\n",
       "2002-12-01         306   Dec  2002  96  5.723585   93636  330.812576\n",
       "\n",
       "[96 rows x 7 columns]"
      ]
     },
     "execution_count": 56,
     "metadata": {},
     "output_type": "execute_result"
    }
   ],
   "source": [
    "df_tran"
   ]
  },
  {
   "cell_type": "code",
   "execution_count": null,
   "metadata": {},
   "outputs": [],
   "source": []
  },
  {
   "cell_type": "code",
   "execution_count": null,
   "metadata": {},
   "outputs": [],
   "source": []
  }
 ],
 "metadata": {
  "kernelspec": {
   "display_name": "Python 3",
   "language": "python",
   "name": "python3"
  },
  "language_info": {
   "codemirror_mode": {
    "name": "ipython",
    "version": 3
   },
   "file_extension": ".py",
   "mimetype": "text/x-python",
   "name": "python",
   "nbconvert_exporter": "python",
   "pygments_lexer": "ipython3",
   "version": "3.6.5"
  }
 },
 "nbformat": 4,
 "nbformat_minor": 2
}
